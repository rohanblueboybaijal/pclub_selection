{
  "nbformat": 4,
  "nbformat_minor": 0,
  "metadata": {
    "colab": {
      "name": "Polynomial Regression.ipynb",
      "provenance": [],
      "collapsed_sections": [],
      "authorship_tag": "ABX9TyNRqIUrmFrNVMF4Y/jzxotK",
      "include_colab_link": true
    },
    "kernelspec": {
      "name": "python3",
      "display_name": "Python 3"
    }
  },
  "cells": [
    {
      "cell_type": "markdown",
      "metadata": {
        "id": "view-in-github",
        "colab_type": "text"
      },
      "source": [
        "<a href=\"https://colab.research.google.com/github/rohanblueboybaijal/pclub_selection/blob/master/Polynomial_Regression.ipynb\" target=\"_parent\"><img src=\"https://colab.research.google.com/assets/colab-badge.svg\" alt=\"Open In Colab\"/></a>"
      ]
    },
    {
      "cell_type": "code",
      "metadata": {
        "id": "UfXK5b7Qs9_A",
        "colab_type": "code",
        "colab": {}
      },
      "source": [
        "import numpy as np\n",
        "import matplotlib.pyplot as plt\n",
        "import pandas as pd"
      ],
      "execution_count": 0,
      "outputs": []
    },
    {
      "cell_type": "code",
      "metadata": {
        "id": "2rqRF6OyFk4O",
        "colab_type": "code",
        "colab": {
          "base_uri": "https://localhost:8080/",
          "height": 34
        },
        "outputId": "387b9a7e-f256-4859-fcfe-769bceeb6991"
      },
      "source": [
        "dataset = pd.read_csv('https://s3.us-west-2.amazonaws.com/public.gamelab.fun/dataset/position_salaries.csv')\n",
        "X = dataset.iloc[:, 1:2].values\n",
        "y = dataset.iloc[:, 2].values\n",
        "print(X.shape)"
      ],
      "execution_count": 158,
      "outputs": [
        {
          "output_type": "stream",
          "text": [
            "(10, 1)\n"
          ],
          "name": "stdout"
        }
      ]
    },
    {
      "cell_type": "code",
      "metadata": {
        "id": "nkL9UGLDHjjt",
        "colab_type": "code",
        "colab": {
          "base_uri": "https://localhost:8080/",
          "height": 290
        },
        "outputId": "086fa987-fb6c-42a1-d450-b945923ceedb"
      },
      "source": [
        "from sklearn.preprocessing import PolynomialFeatures\n",
        "from sklearn.linear_model import LinearRegression\n",
        "from sklearn.model_selection import train_test_split \n",
        "\n",
        "X_train, X_test, y_train, y_test = train_test_split(X, y, test_size=0.2, random_state=0)\n",
        "\n",
        "poly_reg = PolynomialFeatures(degree=4)\n",
        "X_poly = poly_reg.fit_transform(X)\n",
        "pol_reg = LinearRegression()\n",
        "pol_reg.fit(X_poly, y)\n",
        "\n",
        "# Visualizing the Polymonial Regression results\n",
        "def viz_polymonial_regression():\n",
        "    plt.scatter(X, y, color='red')\n",
        "    plt.plot(X, pol_reg.predict(poly_reg.fit_transform(X)), color='blue')\n",
        "    plt.xlabel('Position level')\n",
        "    plt.ylabel('Salary')\n",
        "    plt.show()\n",
        "    return\n",
        "viz_polymonial_regression()"
      ],
      "execution_count": 159,
      "outputs": [
        {
          "output_type": "display_data",
          "data": {
            "image/png": "[encoded data removed]",
            "text/plain": [
              "<Figure size 432x288 with 1 Axes>"
            ]
          },
          "metadata": {
            "tags": []
          }
        }
      ]
    },
    {
      "cell_type": "code",
      "metadata": {
        "id": "FO56Mh66Jh5G",
        "colab_type": "code",
        "colab": {}
      },
      "source": [
        "def h(X, theta):\n",
        "    return X@theta"
      ],
      "execution_count": 0,
      "outputs": []
    },
    {
      "cell_type": "code",
      "metadata": {
        "id": "aCcxJ92CJ9S6",
        "colab_type": "code",
        "colab": {}
      },
      "source": [
        "#Just for the purpose of calculating loss per iteration and storing its values\n",
        "def J(theta, X, y):\n",
        "  return np.mean(np.square(h(X, theta) - y))"
      ],
      "execution_count": 0,
      "outputs": []
    },
    {
      "cell_type": "code",
      "metadata": {
        "id": "pBwnE1THKM01",
        "colab_type": "code",
        "colab": {}
      },
      "source": [
        "dataset = pd.read_csv('https://s3.us-west-2.amazonaws.com/public.gamelab.fun/dataset/position_salaries.csv')\n",
        "X = dataset.iloc[:, 1:2].values\n",
        "y = dataset.iloc[:, 2].values\n",
        "\n",
        "X = np.array(X)\n",
        "y = np.array(y)\n",
        "#print(y.shape)\n"
      ],
      "execution_count": 0,
      "outputs": []
    },
    {
      "cell_type": "code",
      "metadata": {
        "id": "eilO5wuXLzZX",
        "colab_type": "code",
        "colab": {
          "base_uri": "https://localhost:8080/",
          "height": 191
        },
        "outputId": "f356aa1c-23eb-4378-8d34-0abfe5e03894"
      },
      "source": [
        "X = np.hstack((np.ones((m, 1)), X))\n",
        "print(X)"
      ],
      "execution_count": 163,
      "outputs": [
        {
          "output_type": "stream",
          "text": [
            "[[ 1.  1.]\n",
            " [ 1.  2.]\n",
            " [ 1.  3.]\n",
            " [ 1.  4.]\n",
            " [ 1.  5.]\n",
            " [ 1.  6.]\n",
            " [ 1.  7.]\n",
            " [ 1.  8.]\n",
            " [ 1.  9.]\n",
            " [ 1. 10.]]\n"
          ],
          "name": "stdout"
        }
      ]
    },
    {
      "cell_type": "code",
      "metadata": {
        "id": "5jp1CAkiMgNU",
        "colab_type": "code",
        "colab": {
          "base_uri": "https://localhost:8080/",
          "height": 191
        },
        "outputId": "7b732449-8c20-4479-fbe1-69465bd5e6f7"
      },
      "source": [
        "X = np.hstack((X, (X[:,1]**2).reshape(m,1)))\n",
        "X = np.hstack((X, (X[:,1]**3).reshape(m,1)))\n",
        "X = np.hstack((X, (X[:,1]**4).reshape(m,1)))\n",
        "print(X)"
      ],
      "execution_count": 164,
      "outputs": [
        {
          "output_type": "stream",
          "text": [
            "[[1.000e+00 1.000e+00 1.000e+00 1.000e+00 1.000e+00]\n",
            " [1.000e+00 2.000e+00 4.000e+00 8.000e+00 1.600e+01]\n",
            " [1.000e+00 3.000e+00 9.000e+00 2.700e+01 8.100e+01]\n",
            " [1.000e+00 4.000e+00 1.600e+01 6.400e+01 2.560e+02]\n",
            " [1.000e+00 5.000e+00 2.500e+01 1.250e+02 6.250e+02]\n",
            " [1.000e+00 6.000e+00 3.600e+01 2.160e+02 1.296e+03]\n",
            " [1.000e+00 7.000e+00 4.900e+01 3.430e+02 2.401e+03]\n",
            " [1.000e+00 8.000e+00 6.400e+01 5.120e+02 4.096e+03]\n",
            " [1.000e+00 9.000e+00 8.100e+01 7.290e+02 6.561e+03]\n",
            " [1.000e+00 1.000e+01 1.000e+02 1.000e+03 1.000e+04]]\n"
          ],
          "name": "stdout"
        }
      ]
    },
    {
      "cell_type": "code",
      "metadata": {
        "id": "wgw_2-IiNGbq",
        "colab_type": "code",
        "colab": {
          "base_uri": "https://localhost:8080/",
          "height": 191
        },
        "outputId": "88f101ce-67ec-4b6a-ca19-b11a7daa91f1"
      },
      "source": [
        "# Normalization of features\n",
        "# We don't normalize column with only ones\n",
        "X[:, 1:] = (X[:, 1:] - np.mean(X[:, 1:], axis=0)) / np.std(X[:, 1:], axis=0)\n",
        "print(X)\n"
      ],
      "execution_count": 165,
      "outputs": [
        {
          "output_type": "stream",
          "text": [
            "[[ 1.         -1.5666989  -1.15669692 -0.92459328 -0.78691732]\n",
            " [ 1.         -1.21854359 -1.06416117 -0.90312676 -0.78225604]\n",
            " [ 1.         -0.87038828 -0.90993491 -0.84486052 -0.76205716]\n",
            " [ 1.         -0.52223297 -0.69401815 -0.73139468 -0.70767556]\n",
            " [ 1.         -0.17407766 -0.41641089 -0.54432937 -0.59300807]\n",
            " [ 1.          0.17407766 -0.07711313 -0.26526474 -0.38449347]\n",
            " [ 1.          0.52223297  0.32387514  0.1241991  -0.04111249]\n",
            " [ 1.          0.87038828  0.78655391  0.64246199  0.48561217]\n",
            " [ 1.          1.21854359  1.31092318  1.30792382  1.25161589]\n",
            " [ 1.          1.5666989   1.89698295  2.13898444  2.32029206]]\n"
          ],
          "name": "stdout"
        }
      ]
    },
    {
      "cell_type": "code",
      "metadata": {
        "id": "YRZ1h3XKOoc0",
        "colab_type": "code",
        "colab": {}
      },
      "source": [
        "m = X.shape[0] #No. of training examples\n",
        "n = X.shape[1] #No. of features\n",
        "\n",
        "theta = np.random.random(n)\n",
        "loss_history = []\n",
        "alpha = 0.01\n"
      ],
      "execution_count": 0,
      "outputs": []
    },
    {
      "cell_type": "code",
      "metadata": {
        "id": "lNIfbaQvY-Wf",
        "colab_type": "code",
        "colab": {
          "base_uri": "https://localhost:8080/",
          "height": 293
        },
        "outputId": "b38f344d-d868-412d-8fea-d93c1be462cf"
      },
      "source": [
        "predictions = h(X, theta)\n",
        "plt.plot(X[:, 1], predictions, label='predictions')\n",
        "plt.plot(X[:, 1], y, 'rx', label='labels')\n",
        "plt.legend()"
      ],
      "execution_count": 167,
      "outputs": [
        {
          "output_type": "execute_result",
          "data": {
            "text/plain": [
              "<matplotlib.legend.Legend at 0x7fa85bfe7588>"
            ]
          },
          "metadata": {
            "tags": []
          },
          "execution_count": 167
        },
        {
          "output_type": "display_data",
          "data": {
            "image/png": "[encoded data removed]",
            "text/plain": [
              "<Figure size 432x288 with 1 Axes>"
            ]
          },
          "metadata": {
            "tags": []
          }
        }
      ]
    },
    {
      "cell_type": "code",
      "metadata": {
        "id": "Tw1xpt6FXo3d",
        "colab_type": "code",
        "colab": {}
      },
      "source": [
        "loss = []\n",
        "for _ in range(5000):\n",
        "  theta = theta - alpha * (1/m) * (X.T @ ((X @ theta) - y))\n",
        "  loss.append(J(theta, X, y))"
      ],
      "execution_count": 0,
      "outputs": []
    },
    {
      "cell_type": "code",
      "metadata": {
        "id": "yo6GlHACT_Gu",
        "colab_type": "code",
        "colab": {
          "base_uri": "https://localhost:8080/",
          "height": 293
        },
        "outputId": "382993c9-affd-46ce-ed40-20199d08a5ea"
      },
      "source": [
        "prediction = h(X, theta)\n",
        "plt.plot(X[:,1], prediction,label='predictions')\n",
        "plt.scatter(X[:,1],y, color='red', label='labels')\n",
        "plt.legend()"
      ],
      "execution_count": 169,
      "outputs": [
        {
          "output_type": "execute_result",
          "data": {
            "text/plain": [
              "<matplotlib.legend.Legend at 0x7fa85bfd4898>"
            ]
          },
          "metadata": {
            "tags": []
          },
          "execution_count": 169
        },
        {
          "output_type": "display_data",
          "data": {
            "image/png": "[encoded data removed]",
            "text/plain": [
              "<Figure size 432x288 with 1 Axes>"
            ]
          },
          "metadata": {
            "tags": []
          }
        }
      ]
    },
    {
      "cell_type": "code",
      "metadata": {
        "id": "HcgSS5eTY0t3",
        "colab_type": "code",
        "colab": {
          "base_uri": "https://localhost:8080/",
          "height": 293
        },
        "outputId": "d45dedc9-44c3-4e60-82dc-d9b33c6c675d"
      },
      "source": [
        "plt.plot(loss)"
      ],
      "execution_count": 170,
      "outputs": [
        {
          "output_type": "execute_result",
          "data": {
            "text/plain": [
              "[<matplotlib.lines.Line2D at 0x7fa85bf39f98>]"
            ]
          },
          "metadata": {
            "tags": []
          },
          "execution_count": 170
        },
        {
          "output_type": "display_data",
          "data": {
            "image/png": "[encoded data removed]",
            "text/plain": [
              "<Figure size 432x288 with 1 Axes>"
            ]
          },
          "metadata": {
            "tags": []
          }
        }
      ]
    }
  ]
}