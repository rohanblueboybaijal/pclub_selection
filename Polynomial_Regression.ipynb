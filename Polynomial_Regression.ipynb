{
  "nbformat": 4,
  "nbformat_minor": 0,
  "metadata": {
    "colab": {
      "name": "Polynomial Regression.ipynb",
      "provenance": [],
      "collapsed_sections": [],
      "authorship_tag": "ABX9TyNo/3SWn7M/J9jxOoH5iTv4",
      "include_colab_link": true
    },
    "kernelspec": {
      "name": "python3",
      "display_name": "Python 3"
    }
  },
  "cells": [
    {
      "cell_type": "markdown",
      "metadata": {
        "id": "view-in-github",
        "colab_type": "text"
      },
      "source": [
        "<a href=\"https://colab.research.google.com/github/rohanblueboybaijal/pclub_selection/blob/master/Polynomial_Regression.ipynb\" target=\"_parent\"><img src=\"https://colab.research.google.com/assets/colab-badge.svg\" alt=\"Open In Colab\"/></a>"
      ]
    },
    {
      "cell_type": "code",
      "metadata": {
        "id": "UfXK5b7Qs9_A",
        "colab_type": "code",
        "colab": {}
      },
      "source": [
        "import numpy as np\n",
        "import matplotlib.pyplot as plt\n",
        "import pandas as pd"
      ],
      "execution_count": 0,
      "outputs": []
    },
    {
      "cell_type": "code",
      "metadata": {
        "id": "2rqRF6OyFk4O",
        "colab_type": "code",
        "outputId": "f860869e-6a88-4591-8d66-789c8566cd5b",
        "colab": {
          "base_uri": "https://localhost:8080/",
          "height": 34
        }
      },
      "source": [
        "dataset = pd.read_csv('https://s3.us-west-2.amazonaws.com/public.gamelab.fun/dataset/position_salaries.csv')\n",
        "X = dataset.iloc[:, 1:2].values\n",
        "y = dataset.iloc[:, 2].values\n",
        "print(X.shape)"
      ],
      "execution_count": 73,
      "outputs": [
        {
          "output_type": "stream",
          "text": [
            "(10, 1)\n"
          ],
          "name": "stdout"
        }
      ]
    },
    {
      "cell_type": "code",
      "metadata": {
        "id": "nkL9UGLDHjjt",
        "colab_type": "code",
        "outputId": "5179284a-85aa-4dd0-b5d4-187171ee64f0",
        "colab": {
          "base_uri": "https://localhost:8080/",
          "height": 290
        }
      },
      "source": [
        "from sklearn.preprocessing import PolynomialFeatures\n",
        "from sklearn.linear_model import LinearRegression\n",
        "from sklearn.model_selection import train_test_split \n",
        "\n",
        "X_train, X_test, y_train, y_test = train_test_split(X, y, test_size=0.2, random_state=0)\n",
        "\n",
        "poly_reg = PolynomialFeatures(degree=4)\n",
        "X_poly = poly_reg.fit_transform(X)\n",
        "pol_reg = LinearRegression()\n",
        "pol_reg.fit(X_poly, y)\n",
        "\n",
        "# Visualizing the Polymonial Regression results\n",
        "def viz_polymonial_regression():\n",
        "    plt.scatter(X, y, color='red')\n",
        "    plt.plot(X, pol_reg.predict(poly_reg.fit_transform(X)), color='blue')\n",
        "    plt.xlabel('Position level')\n",
        "    plt.ylabel('Salary')\n",
        "    plt.show()\n",
        "    return\n",
        "viz_polymonial_regression()"
      ],
      "execution_count": 74,
      "outputs": [
        {
          "output_type": "display_data",
          "data": {
            "image/png": "[encoded data removed]",
            "text/plain": [
              "<Figure size 432x288 with 1 Axes>"
            ]
          },
          "metadata": {
            "tags": []
          }
        }
      ]
    },
    {
      "cell_type": "code",
      "metadata": {
        "id": "FO56Mh66Jh5G",
        "colab_type": "code",
        "colab": {}
      },
      "source": [
        "def h(X, weights):\n",
        "    return np.matmul(X, weights)"
      ],
      "execution_count": 0,
      "outputs": []
    },
    {
      "cell_type": "code",
      "metadata": {
        "id": "aCcxJ92CJ9S6",
        "colab_type": "code",
        "colab": {}
      },
      "source": [
        "#Just for the purpose of calculating loss per iteration and storing its values\n",
        "def Loss(weights, X, y):\n",
        "  return np.mean(np.square(h(X, weights) - y))"
      ],
      "execution_count": 0,
      "outputs": []
    },
    {
      "cell_type": "code",
      "metadata": {
        "id": "pBwnE1THKM01",
        "colab_type": "code",
        "outputId": "5a726df5-3a2d-4c63-ec7f-7748ba3eb39e",
        "colab": {
          "base_uri": "https://localhost:8080/",
          "height": 34
        }
      },
      "source": [
        "dataset = pd.read_csv('https://s3.us-west-2.amazonaws.com/public.gamelab.fun/dataset/position_salaries.csv')\n",
        "X = dataset.iloc[:, 1:2].values\n",
        "y = dataset.iloc[:, 2].values\n",
        "\n",
        "X = np.array(X)\n",
        "y = np.array(y)\n",
        "\n",
        "m= X.shape[0]\n",
        "print(X.shape)\n",
        "#print(y.shape)\n"
      ],
      "execution_count": 77,
      "outputs": [
        {
          "output_type": "stream",
          "text": [
            "(10, 1)\n"
          ],
          "name": "stdout"
        }
      ]
    },
    {
      "cell_type": "code",
      "metadata": {
        "id": "eilO5wuXLzZX",
        "colab_type": "code",
        "colab": {}
      },
      "source": [
        "X = np.concatenate((np.ones((m,1)), X), axis=1)"
      ],
      "execution_count": 0,
      "outputs": []
    },
    {
      "cell_type": "code",
      "metadata": {
        "id": "5jp1CAkiMgNU",
        "colab_type": "code",
        "colab": {}
      },
      "source": [
        "X = np.concatenate((X, (X[:,1]**2).reshape(m,1)), axis =1)\n",
        "X = np.concatenate((X, (X[:,1]**3).reshape(m,1)), axis =1)\n",
        "X = np.concatenate((X, (X[:,1]**4).reshape(m,1)), axis =1)"
      ],
      "execution_count": 0,
      "outputs": []
    },
    {
      "cell_type": "code",
      "metadata": {
        "id": "wgw_2-IiNGbq",
        "colab_type": "code",
        "outputId": "03bcdbb9-627d-4c77-98c6-fc7cf45fc099",
        "colab": {
          "base_uri": "https://localhost:8080/",
          "height": 191
        }
      },
      "source": [
        "\n",
        "# We don't normalize column with only ones\n",
        "X[:, 1:] = (X[:, 1:] - np.mean(X[:, 1:], axis=0)) / np.std(X[:, 1:], axis=0)\n",
        "print(X)\n"
      ],
      "execution_count": 80,
      "outputs": [
        {
          "output_type": "stream",
          "text": [
            "[[ 1.         -1.5666989  -1.15669692 -0.92459328 -0.78691732]\n",
            " [ 1.         -1.21854359 -1.06416117 -0.90312676 -0.78225604]\n",
            " [ 1.         -0.87038828 -0.90993491 -0.84486052 -0.76205716]\n",
            " [ 1.         -0.52223297 -0.69401815 -0.73139468 -0.70767556]\n",
            " [ 1.         -0.17407766 -0.41641089 -0.54432937 -0.59300807]\n",
            " [ 1.          0.17407766 -0.07711313 -0.26526474 -0.38449347]\n",
            " [ 1.          0.52223297  0.32387514  0.1241991  -0.04111249]\n",
            " [ 1.          0.87038828  0.78655391  0.64246199  0.48561217]\n",
            " [ 1.          1.21854359  1.31092318  1.30792382  1.25161589]\n",
            " [ 1.          1.5666989   1.89698295  2.13898444  2.32029206]]\n"
          ],
          "name": "stdout"
        }
      ]
    },
    {
      "cell_type": "code",
      "metadata": {
        "id": "YRZ1h3XKOoc0",
        "colab_type": "code",
        "colab": {}
      },
      "source": [
        "m = X.shape[0] #No. of training examples\n",
        "n = X.shape[1] #No. of features\n",
        "\n",
        "weights = np.random.random(n)\n",
        "alpha = 0.01\n"
      ],
      "execution_count": 0,
      "outputs": []
    },
    {
      "cell_type": "code",
      "metadata": {
        "id": "Tw1xpt6FXo3d",
        "colab_type": "code",
        "colab": {}
      },
      "source": [
        "loss = []\n",
        "for i in range(2000):\n",
        "  weights = weights - alpha * (1/m) * ((X.T) @ ((X @ weights) - y))\n",
        "  loss.append(Loss(weights, X, y))"
      ],
      "execution_count": 0,
      "outputs": []
    },
    {
      "cell_type": "code",
      "metadata": {
        "id": "yo6GlHACT_Gu",
        "colab_type": "code",
        "outputId": "d98fc36e-7c0c-454a-a566-2bd4ab59d99b",
        "colab": {
          "base_uri": "https://localhost:8080/",
          "height": 293
        }
      },
      "source": [
        "prediction = h(X, weights)\n",
        "plt.plot(X[:,1], prediction,label='y_pred')\n",
        "plt.scatter(X[:,1],y, color='red', label='actual_data')\n",
        "plt.legend()"
      ],
      "execution_count": 83,
      "outputs": [
        {
          "output_type": "execute_result",
          "data": {
            "text/plain": [
              "<matplotlib.legend.Legend at 0x7f383483c048>"
            ]
          },
          "metadata": {
            "tags": []
          },
          "execution_count": 83
        },
        {
          "output_type": "display_data",
          "data": {
            "image/png": "[encoded data removed]",
            "text/plain": [
              "<Figure size 432x288 with 1 Axes>"
            ]
          },
          "metadata": {
            "tags": []
          }
        }
      ]
    },
    {
      "cell_type": "code",
      "metadata": {
        "id": "HcgSS5eTY0t3",
        "colab_type": "code",
        "outputId": "90d3ae43-a575-4326-d090-76482dd7bdef",
        "colab": {
          "base_uri": "https://localhost:8080/",
          "height": 293
        }
      },
      "source": [
        "plt.plot(loss)"
      ],
      "execution_count": 84,
      "outputs": [
        {
          "output_type": "execute_result",
          "data": {
            "text/plain": [
              "[<matplotlib.lines.Line2D at 0x7f38347a2470>]"
            ]
          },
          "metadata": {
            "tags": []
          },
          "execution_count": 84
        },
        {
          "output_type": "display_data",
          "data": {
            "image/png": "[encoded data removed]",
            "text/plain": [
              "<Figure size 432x288 with 1 Axes>"
            ]
          },
          "metadata": {
            "tags": []
          }
        }
      ]
    }
  ]
}