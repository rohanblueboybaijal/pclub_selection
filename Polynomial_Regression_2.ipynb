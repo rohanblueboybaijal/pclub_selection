{
  "nbformat": 4,
  "nbformat_minor": 0,
  "metadata": {
    "colab": {
      "name": "Polynomial_Regression_2.ipynb",
      "provenance": [],
      "authorship_tag": "ABX9TyOhmbCcdX+mnFDrnb5dGPeI",
      "include_colab_link": true
    },
    "kernelspec": {
      "name": "python3",
      "display_name": "Python 3"
    }
  },
  "cells": [
    {
      "cell_type": "markdown",
      "metadata": {
        "id": "view-in-github",
        "colab_type": "text"
      },
      "source": [
        "<a href=\"https://colab.research.google.com/github/rohanblueboybaijal/pclub_selection/blob/master/Polynomial_Regression_2.ipynb\" target=\"_parent\"><img src=\"https://colab.research.google.com/assets/colab-badge.svg\" alt=\"Open In Colab\"/></a>"
      ]
    },
    {
      "cell_type": "code",
      "metadata": {
        "id": "7Zx5Cnx_KcRt",
        "colab_type": "code",
        "colab": {}
      },
      "source": [
        "import numpy as np\n",
        "import matplotlib.pyplot as plt\n",
        "import pandas as pd"
      ],
      "execution_count": 0,
      "outputs": []
    },
    {
      "cell_type": "code",
      "metadata": {
        "id": "8uZwrk1oKnMR",
        "colab_type": "code",
        "colab": {
          "base_uri": "https://localhost:8080/",
          "height": 34
        },
        "outputId": "e6f125f2-59ed-42b0-b5d9-0e5d5337d6a2"
      },
      "source": [
        "X =np.linspace(1,20,20).reshape(-1,1)\n",
        "print(X.shape)\n",
        "\n",
        "y = X + 2*X[:,]**2 + 5*X[:,]**3 + 3*X[:,]**4 - (0.0001)*np.exp(X) - 10000*np.sin(X)\n",
        "y = y.reshape(-1,)"
      ],
      "execution_count": 81,
      "outputs": [
        {
          "output_type": "stream",
          "text": [
            "(20, 1)\n"
          ],
          "name": "stdout"
        }
      ]
    },
    {
      "cell_type": "code",
      "metadata": {
        "id": "7NEyLpW8MfZX",
        "colab_type": "code",
        "colab": {
          "base_uri": "https://localhost:8080/",
          "height": 282
        },
        "outputId": "a869ff50-5da6-4742-d8f7-f8115a7099db"
      },
      "source": [
        "plt.scatter(X, y, color='red')"
      ],
      "execution_count": 82,
      "outputs": [
        {
          "output_type": "execute_result",
          "data": {
            "text/plain": [
              "<matplotlib.collections.PathCollection at 0x7f4155351748>"
            ]
          },
          "metadata": {
            "tags": []
          },
          "execution_count": 82
        },
        {
          "output_type": "display_data",
          "data": {
            "image/png": "[encoded data removed]",
            "text/plain": [
              "<Figure size 432x288 with 1 Axes>"
            ]
          },
          "metadata": {
            "tags": []
          }
        }
      ]
    },
    {
      "cell_type": "code",
      "metadata": {
        "id": "tP8G_66zNEBY",
        "colab_type": "code",
        "colab": {
          "base_uri": "https://localhost:8080/",
          "height": 279
        },
        "outputId": "64d1e7ac-0de4-4915-85a0-de8e272e9904"
      },
      "source": [
        "from sklearn.preprocessing import PolynomialFeatures\n",
        "from sklearn.linear_model import LinearRegression\n",
        "from sklearn.model_selection import train_test_split \n",
        "\n",
        "#X_train, X_test, y_train, y_test = train_test_split(X, y, test_size=0.2, random_state=0)\n",
        "\n",
        "poly_reg = PolynomialFeatures(degree=4)\n",
        "X_poly = poly_reg.fit_transform(X)\n",
        "pol_reg = LinearRegression()\n",
        "pol_reg.fit(X_poly, y)\n",
        "\n",
        "def viz_polymonial_regression():\n",
        "    plt.scatter(X, y, color='red')\n",
        "    plt.plot(X, pol_reg.predict(poly_reg.fit_transform(X)), color='blue')\n",
        "    plt.xlabel('X')\n",
        "    plt.ylabel('y')\n",
        "    plt.show()\n",
        "    return\n",
        "viz_polymonial_regression()"
      ],
      "execution_count": 83,
      "outputs": [
        {
          "output_type": "display_data",
          "data": {
            "image/png": "[encoded data removed]",
            "text/plain": [
              "<Figure size 432x288 with 1 Axes>"
            ]
          },
          "metadata": {
            "tags": []
          }
        }
      ]
    },
    {
      "cell_type": "code",
      "metadata": {
        "id": "E6S3ws-2NZ5B",
        "colab_type": "code",
        "colab": {}
      },
      "source": [
        "def h(X, weights):\n",
        "    return np.matmul(X, weights)"
      ],
      "execution_count": 0,
      "outputs": []
    },
    {
      "cell_type": "code",
      "metadata": {
        "id": "Ag42C9k2NdpJ",
        "colab_type": "code",
        "colab": {}
      },
      "source": [
        "def Loss(weights, X, y):\n",
        "  return np.mean(np.square(h(X, weights) - y))"
      ],
      "execution_count": 0,
      "outputs": []
    },
    {
      "cell_type": "code",
      "metadata": {
        "id": "iSpfaeeuNmOx",
        "colab_type": "code",
        "colab": {
          "base_uri": "https://localhost:8080/",
          "height": 34
        },
        "outputId": "9a403dc0-e544-4e39-91c7-e4c0111026b6"
      },
      "source": [
        "X =np.linspace(1,20,20).reshape(-1,1)\n",
        "print(X.shape)\n",
        "\n",
        "y = X + 2*X[:,]**2 + 5*X[:,]**3 + 3*X[:,]**4 - (0.0001)*np.exp(X) - 10000*np.sin(X)\n",
        "y = y.reshape(-1,)\n",
        "\n",
        "m= X.shape[0]"
      ],
      "execution_count": 91,
      "outputs": [
        {
          "output_type": "stream",
          "text": [
            "(20, 1)\n"
          ],
          "name": "stdout"
        }
      ]
    },
    {
      "cell_type": "code",
      "metadata": {
        "id": "9DBjQDuBNvMK",
        "colab_type": "code",
        "colab": {}
      },
      "source": [
        "X = np.concatenate((np.ones((m,1)), X), axis=1)\n",
        "X = np.concatenate((X, (X[:,1]**2).reshape(m,1)), axis =1)\n",
        "X = np.concatenate((X, (X[:,1]**3).reshape(m,1)), axis =1)\n",
        "X = np.concatenate((X, (X[:,1]**4).reshape(m,1)), axis =1)"
      ],
      "execution_count": 0,
      "outputs": []
    },
    {
      "cell_type": "code",
      "metadata": {
        "id": "cuercniGN3zR",
        "colab_type": "code",
        "colab": {
          "base_uri": "https://localhost:8080/",
          "height": 382
        },
        "outputId": "ea363c58-3da2-434c-9d2f-4a3d9ce92159"
      },
      "source": [
        "X[:, 1:] = (X[:, 1:] - np.mean(X[:, 1:], axis=0)) / np.std(X[:, 1:], axis=0)\n",
        "print(X)\n",
        "a = np.std(X[:,1:], axis =0)\n",
        "print(a.shape)"
      ],
      "execution_count": 93,
      "outputs": [
        {
          "output_type": "stream",
          "text": [
            "[[ 1.         -1.64750894 -1.14307489 -0.9027356  -0.76662002]\n",
            " [ 1.         -1.47408695 -1.11901016 -0.89986848 -0.76630176]\n",
            " [ 1.         -1.30066495 -1.07890227 -0.89208627 -0.76492265]\n",
            " [ 1.         -1.12724296 -1.02275122 -0.87693146 -0.76120967]\n",
            " [ 1.         -0.95382097 -0.95055702 -0.85194649 -0.75338059]\n",
            " [ 1.         -0.78039897 -0.86231966 -0.81467383 -0.73914397]\n",
            " [ 1.         -0.60697698 -0.75803914 -0.76265594 -0.71569915]\n",
            " [ 1.         -0.43355498 -0.63771547 -0.69343529 -0.67973629]\n",
            " [ 1.         -0.26013299 -0.50134864 -0.60455433 -0.62743631]\n",
            " [ 1.         -0.086711   -0.34893865 -0.49355554 -0.55447096]\n",
            " [ 1.          0.086711   -0.18048551 -0.35798136 -0.45600273]\n",
            " [ 1.          0.26013299  0.00401079 -0.19537427 -0.32668494]\n",
            " [ 1.          0.43355498  0.20455024 -0.00327672 -0.1606617 ]\n",
            " [ 1.          0.60697698  0.42113286  0.22076883  0.04843211]\n",
            " [ 1.          0.78039897  0.65375862  0.4792199   0.3074708 ]\n",
            " [ 1.          0.95382097  0.90242755  0.77453404  0.62383791]\n",
            " [ 1.          1.12724296  1.16713963  1.10916879  1.00542615]\n",
            " [ 1.          1.30066495  1.44789486  1.48558169  1.46063749]\n",
            " [ 1.          1.47408695  1.74469326  1.90623027  1.99838306]\n",
            " [ 1.          1.64750894  2.05753481  2.37357206  2.62808323]]\n",
            "(4,)\n"
          ],
          "name": "stdout"
        }
      ]
    },
    {
      "cell_type": "code",
      "metadata": {
        "id": "Pq809lIAN-II",
        "colab_type": "code",
        "colab": {}
      },
      "source": [
        "m = X.shape[0] #No. of training examples\n",
        "n = X.shape[1] #No. of features\n",
        "\n",
        "weights = np.random.random(n)\n",
        "alpha = 0.01"
      ],
      "execution_count": 0,
      "outputs": []
    },
    {
      "cell_type": "code",
      "metadata": {
        "id": "FCVUFiJ8OFhe",
        "colab_type": "code",
        "colab": {}
      },
      "source": [
        "loss = []\n",
        "for i in range(2000):\n",
        "  weights = weights - alpha * (1/m) * ((X.T) @ ((X @ weights) - y))\n",
        "  loss.append(Loss(weights, X, y))"
      ],
      "execution_count": 0,
      "outputs": []
    },
    {
      "cell_type": "code",
      "metadata": {
        "id": "hFBrL1G-OKkD",
        "colab_type": "code",
        "colab": {
          "base_uri": "https://localhost:8080/",
          "height": 286
        },
        "outputId": "471725f8-89a5-4c40-bf04-e1e3d5edc77b"
      },
      "source": [
        "prediction = h(X, weights)\n",
        "plt.plot(X[:,1], prediction,label='y_pred')\n",
        "plt.scatter(X[:,1],y, color='red', label='actual_data')\n",
        "plt.legend()"
      ],
      "execution_count": 96,
      "outputs": [
        {
          "output_type": "execute_result",
          "data": {
            "text/plain": [
              "<matplotlib.legend.Legend at 0x7f4155247128>"
            ]
          },
          "metadata": {
            "tags": []
          },
          "execution_count": 96
        },
        {
          "output_type": "display_data",
          "data": {
            "image/png": "[encoded data removed]",
            "text/plain": [
              "<Figure size 432x288 with 1 Axes>"
            ]
          },
          "metadata": {
            "tags": []
          }
        }
      ]
    },
    {
      "cell_type": "code",
      "metadata": {
        "id": "45hiBTl_OU1p",
        "colab_type": "code",
        "colab": {
          "base_uri": "https://localhost:8080/",
          "height": 293
        },
        "outputId": "9a2c1f0b-65ec-473f-ac76-3ce1caa9a6e7"
      },
      "source": [
        "plt.plot(loss)"
      ],
      "execution_count": 97,
      "outputs": [
        {
          "output_type": "execute_result",
          "data": {
            "text/plain": [
              "[<matplotlib.lines.Line2D at 0x7f415522f780>]"
            ]
          },
          "metadata": {
            "tags": []
          },
          "execution_count": 97
        },
        {
          "output_type": "display_data",
          "data": {
            "image/png": "[encoded data removed]",
            "text/plain": [
              "<Figure size 432x288 with 1 Axes>"
            ]
          },
          "metadata": {
            "tags": []
          }
        }
      ]
    }
  ]
}